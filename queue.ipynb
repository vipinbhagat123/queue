{
  "nbformat": 4,
  "nbformat_minor": 0,
  "metadata": {
    "colab": {
      "provenance": []
    },
    "kernelspec": {
      "name": "python3",
      "display_name": "Python 3"
    },
    "language_info": {
      "name": "python"
    }
  },
  "cells": [
    {
      "cell_type": "code",
      "execution_count": 6,
      "metadata": {
        "colab": {
          "base_uri": "https://localhost:8080/"
        },
        "id": "hAFTfBWEtsBZ",
        "outputId": "283b8195-aabb-43fb-819b-48c93f6f4b75"
      },
      "outputs": [
        {
          "output_type": "stream",
          "name": "stdout",
          "text": [
            "[10, 20, 30]\n",
            "10\n",
            "[20, 30]\n"
          ]
        }
      ],
      "source": [
        "queue=[]\n",
        "queue.append(10)\n",
        "queue.append(20)\n",
        "queue.append(30)\n",
        "print(queue)\n",
        "k=queue.pop(0)\n",
        "print(k)\n",
        "print(queue)"
      ]
    },
    {
      "cell_type": "code",
      "source": [
        "queue=[]\n",
        "queue.append(1)\n",
        "queue.append(2)\n",
        "queue.append(3)\n",
        "queue.pop(0)\n",
        "print(queue)"
      ],
      "metadata": {
        "colab": {
          "base_uri": "https://localhost:8080/"
        },
        "id": "FA2_17TfuD1-",
        "outputId": "b3edc1da-6040-4dba-d2d1-6d6a32da193b"
      },
      "execution_count": 7,
      "outputs": [
        {
          "output_type": "stream",
          "name": "stdout",
          "text": [
            "[2, 3]\n"
          ]
        }
      ]
    },
    {
      "cell_type": "code",
      "source": [
        "queue=[]\n",
        "queue.append(5)\n",
        "queue.append(10)\n",
        "queue.append(15)\n",
        "queue.append(20)\n",
        "queue.pop(0)\n",
        "queue.pop(0)\n",
        "print(queue)"
      ],
      "metadata": {
        "colab": {
          "base_uri": "https://localhost:8080/"
        },
        "id": "N2vGSgVmuy6Z",
        "outputId": "f1ab8e8c-b39e-469f-d0af-15ff987be6d6"
      },
      "execution_count": 10,
      "outputs": [
        {
          "output_type": "stream",
          "name": "stdout",
          "text": [
            "[15, 20]\n"
          ]
        }
      ]
    },
    {
      "cell_type": "code",
      "source": [
        "queue=[]\n",
        "queue.append(100)\n",
        "queue.append(200)\n",
        "queue.append(300)\n",
        "queue.pop(0)\n",
        "queue.append(400)\n",
        "queue.append(500)\n",
        "queue.pop(0)\n",
        "queue.pop(0)\n",
        "print(queue)"
      ],
      "metadata": {
        "colab": {
          "base_uri": "https://localhost:8080/"
        },
        "id": "r8wtm62pvHX5",
        "outputId": "9e25b9d8-48f1-4fdd-8ba7-aa460103db5b"
      },
      "execution_count": 12,
      "outputs": [
        {
          "output_type": "stream",
          "name": "stdout",
          "text": [
            "[400, 500]\n"
          ]
        }
      ]
    },
    {
      "cell_type": "code",
      "source": [
        "class queue:\n",
        "  def __init__(self):\n",
        "    self.queue=[]\n",
        "  def is_empty(self):\n",
        "    return len(self.queue)==0\n",
        "  def enque(self, item):\n",
        "    return self.queue.append(item)\n",
        "  def dequeue(self):\n",
        "    if self.is_empty():\n",
        "      return 'Queue is empty'\n",
        "    return self.queue.pop(0)\n",
        "  def peek(self):\n",
        "    if self.is_empty():\n",
        "      return 'Queue is empty!'\n",
        "    return self.queue[0]\n",
        "  def size(self):\n",
        "    return len(self.queue)\n",
        "  def display(self):\n",
        "    print('Queue:', self.queue)\n",
        "\n",
        "q=queue()\n",
        "q.enque(10)\n",
        "q.enque(20)\n",
        "q.enque(30)\n",
        "q.display()\n",
        "print(q.dequeue())\n",
        "q.display()\n",
        "print(q.peek())\n",
        "print(q.size())\n",
        "print(q.is_empty())\n"
      ],
      "metadata": {
        "colab": {
          "base_uri": "https://localhost:8080/"
        },
        "id": "Nsfgvvn8v0LE",
        "outputId": "ffc7e2bb-fbbe-4cd2-bd98-580902b8086f"
      },
      "execution_count": 14,
      "outputs": [
        {
          "output_type": "stream",
          "name": "stdout",
          "text": [
            "Queue: [10, 20, 30]\n",
            "10\n",
            "Queue: [20, 30]\n",
            "20\n",
            "2\n",
            "False\n"
          ]
        }
      ]
    },
    {
      "cell_type": "code",
      "source": [
        "class Queue:\n",
        "  def __init__(self):\n",
        "    self.queue=[]\n",
        "\n",
        "  def enqueu(self, item):\n",
        "    return self.queue.append(item)\n",
        "\n",
        "  def dequeu(self):\n",
        "    if len(self.queue)==0:\n",
        "      print(\"Empty queue\")\n",
        "      return None\n",
        "    return self.queue.pop(0)\n",
        "\n",
        "  def peek(self):\n",
        "    if len(self.queue)==0:\n",
        "      print(\"Empty queue\")\n",
        "      return None\n",
        "    return self.queue[0]\n",
        "\n",
        "  def size(self):\n",
        "    return len(self.queue)\n",
        "\n",
        "  def display(self):\n",
        "    print(self.queue)\n",
        "k=Queue()\n",
        "k.enqueu(1)\n",
        "k.enqueu(2)\n",
        "k.enqueu(3)\n",
        "k.display()\n",
        "k.dequeu()\n",
        "k.enqueu(4)\n",
        "k.display()\n",
        "print(k.peek())\n",
        "print(k.size())\n",
        "k.display()"
      ],
      "metadata": {
        "colab": {
          "base_uri": "https://localhost:8080/"
        },
        "id": "-3oPcjoaz_Gd",
        "outputId": "8f04d5fd-1b92-4638-bb61-da45a536ac81"
      },
      "execution_count": 22,
      "outputs": [
        {
          "output_type": "stream",
          "name": "stdout",
          "text": [
            "[1, 2, 3]\n",
            "[2, 3, 4]\n",
            "2\n",
            "3\n",
            "[2, 3, 4]\n"
          ]
        }
      ]
    },
    {
      "cell_type": "code",
      "source": [
        "stream='aabc'\n",
        "count={}\n",
        "for i in stream:\n",
        "  if i in count:\n",
        "    count[i]+=1\n",
        "  else:\n",
        "    count[i]=1\n",
        "print(count)"
      ],
      "metadata": {
        "colab": {
          "base_uri": "https://localhost:8080/"
        },
        "id": "GaEDOpPl8-A3",
        "outputId": "9b5d51f2-e492-44bc-8ae4-8efda565196a"
      },
      "execution_count": 24,
      "outputs": [
        {
          "output_type": "stream",
          "name": "stdout",
          "text": [
            "{'a': 2, 'b': 1, 'c': 1}\n"
          ]
        }
      ]
    },
    {
      "cell_type": "code",
      "source": [
        "k=\"aaabbccddeefghijklllmnopqrstuvwxyz\"\n",
        "count={}\n",
        "for i in k:\n",
        "  if i in count:\n",
        "    count[i]+=1\n",
        "  else:\n",
        "    count[i]=1\n",
        "print(count)"
      ],
      "metadata": {
        "colab": {
          "base_uri": "https://localhost:8080/"
        },
        "id": "pkdTOsjOPQQU",
        "outputId": "c5e33005-ecf0-4879-9d47-0aa9fc444e17"
      },
      "execution_count": 25,
      "outputs": [
        {
          "output_type": "stream",
          "name": "stdout",
          "text": [
            "{'a': 3, 'b': 2, 'c': 2, 'd': 2, 'e': 2, 'f': 1, 'g': 1, 'h': 1, 'i': 1, 'j': 1, 'k': 1, 'l': 3, 'm': 1, 'n': 1, 'o': 1, 'p': 1, 'q': 1, 'r': 1, 's': 1, 't': 1, 'u': 1, 'v': 1, 'w': 1, 'x': 1, 'y': 1, 'z': 1}\n"
          ]
        }
      ]
    },
    {
      "cell_type": "code",
      "source": [
        "stream='aabc'\n",
        "queue=[]\n",
        "count={}\n",
        "result=\"\"\n",
        "for i in stream:\n",
        "  if i in count:\n",
        "    count[i]+=1\n",
        "  else:\n",
        "    count[i]=1\n",
        "\n",
        "  queue.append(i)\n",
        "\n",
        "  while queue and count[queue[0]]>1:\n",
        "    queue.pop(0)\n",
        "\n",
        "  if queue:\n",
        "    result+=queue[0]\n",
        "  else:\n",
        "    result+='#'\n",
        "print(result)"
      ],
      "metadata": {
        "colab": {
          "base_uri": "https://localhost:8080/"
        },
        "id": "aWORdVIbPzrd",
        "outputId": "256f4f16-0b19-4de0-b5dc-94ad8b674f75"
      },
      "execution_count": 26,
      "outputs": [
        {
          "output_type": "stream",
          "name": "stdout",
          "text": [
            "a#bb\n"
          ]
        }
      ]
    },
    {
      "cell_type": "code",
      "source": [
        "stream = \"aabccdb\"\n",
        "queue=[]\n",
        "count={}\n",
        "result=\"\"\n",
        "for i in stream:\n",
        "  if i in count:\n",
        "    count[i]+=1\n",
        "  else:\n",
        "    count[i]=1\n",
        "\n",
        "  queue.append(i)\n",
        "\n",
        "  while queue and count[queue[0]]>1:\n",
        "    queue.pop(0)\n",
        "\n",
        "  if queue:\n",
        "    result+=queue[0]\n",
        "  else:\n",
        "    result+='#'\n",
        "print(result)"
      ],
      "metadata": {
        "colab": {
          "base_uri": "https://localhost:8080/"
        },
        "id": "u6En079XRQuS",
        "outputId": "76143397-14c9-40a5-b9c4-8210d2de7961"
      },
      "execution_count": 27,
      "outputs": [
        {
          "output_type": "stream",
          "name": "stdout",
          "text": [
            "a#bbbbd\n"
          ]
        }
      ]
    },
    {
      "cell_type": "code",
      "source": [],
      "metadata": {
        "id": "iwN37BaZRu7z"
      },
      "execution_count": null,
      "outputs": []
    }
  ]
}